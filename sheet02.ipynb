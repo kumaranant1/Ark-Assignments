{
 "cells": [
  {
   "cell_type": "code",
   "execution_count": 11,
   "metadata": {},
   "outputs": [],
   "source": [
    "import numpy as np\n",
    "from matplotlib import pyplot as plt"
   ]
  },
  {
   "cell_type": "code",
   "execution_count": 17,
   "metadata": {},
   "outputs": [],
   "source": [
    "# Equation for dif\n",
    "def diffdrive(x, y, theta, v_l, v_r, t, l):\n",
    "    if v_l == v_r:\n",
    "        theta_n = theta\n",
    "        x_n = x + v_l * t * np.cos(theta)\n",
    "        y_n = y + v_l * t * np.sin(theta)\n",
    "\n",
    "    else:\n",
    "        omega = (v_r-v_l)/l\n",
    "        theta_n = theta + omega*t\n",
    "        vel_com = (v_r + v_l)/2\n",
    "        x_n = x + vel_com * ((np.sin(theta_n) - np.sin(theta))/omega)\n",
    "        y_n = y + vel_com * ((np.cos(theta) - np.cos(theta_n))/omega)\n",
    "    return x_n, y_n, theta_n"
   ]
  },
  {
   "cell_type": "code",
   "execution_count": 27,
   "metadata": {},
   "outputs": [],
   "source": [
    "x = 1.5\n",
    "y = 2.0\n",
    "theta = np.pi/2\n",
    "l = 0.5"
   ]
  },
  {
   "cell_type": "code",
   "execution_count": 28,
   "metadata": {},
   "outputs": [
    {
     "name": "stdout",
     "output_type": "stream",
     "text": [
      "final x : 1.5  final y : 2.9  final pose (theta_n): 1.5707963267948966 \n",
      "\n"
     ]
    }
   ],
   "source": [
    "# c1\n",
    "x_n , y_n, theta_n = diffdrive(x,y, theta, 0.3, 0.3, 3, l)\n",
    "print(f\"final x : {x_n}  final y : {y_n}  final pose (theta_n): {theta_n} \\n\")"
   ]
  },
  {
   "cell_type": "code",
   "execution_count": 29,
   "metadata": {},
   "outputs": [
    {
     "name": "stdout",
     "output_type": "stream",
     "text": [
      "final x : 1.5  final y : 2.9  final pose (theta_n): 1.1707963267948966 \n",
      "\n"
     ]
    }
   ],
   "source": [
    "# c2\n",
    "x_n1, y_n1, theta_n1 = diffdrive(x_n , y_n, theta_n, 0.1, -0.1, 1, l)\n",
    "print(f\"final x : {x_n1}  final y : {y_n1}  final pose (theta_n): {theta_n1} \\n\")"
   ]
  },
  {
   "cell_type": "code",
   "execution_count": 30,
   "metadata": {},
   "outputs": [
    {
     "name": "stdout",
     "output_type": "stream",
     "text": [
      "final x : 1.639675809881553  final y : 3.035655185914644  final pose (theta_n): 0.3707963267948966 \n",
      "\n"
     ]
    }
   ],
   "source": [
    "# c3\n",
    "x_n2, y_n2, theta_n2 = diffdrive(x_n1 , y_n1, theta_n1, 0.2, 0, 2, l)\n",
    "print(f\"final x : {x_n2}  final y : {y_n2}  final pose (theta_n): {theta_n2} \\n\")"
   ]
  }
 ],
 "metadata": {
  "kernelspec": {
   "display_name": "base",
   "language": "python",
   "name": "python3"
  },
  "language_info": {
   "codemirror_mode": {
    "name": "ipython",
    "version": 3
   },
   "file_extension": ".py",
   "mimetype": "text/x-python",
   "name": "python",
   "nbconvert_exporter": "python",
   "pygments_lexer": "ipython3",
   "version": "3.11.4"
  }
 },
 "nbformat": 4,
 "nbformat_minor": 2
}
